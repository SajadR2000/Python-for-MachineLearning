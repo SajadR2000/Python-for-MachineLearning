{
 "cells": [
  {
   "cell_type": "markdown",
   "metadata": {
    "toc": true
   },
   "source": [
    "<h1>Table of Contents<span class=\"tocSkip\"></span></h1>\n",
    "<div class=\"toc\"><ul class=\"toc-item\"><li><span><a href=\"#Description\" data-toc-modified-id=\"Description-1\"><span class=\"toc-item-num\">1&nbsp;&nbsp;</span>Description</a></span></li><li><span><a href=\"#Import\" data-toc-modified-id=\"Import-2\"><span class=\"toc-item-num\">2&nbsp;&nbsp;</span>Import</a></span></li><li><span><a href=\"#Array-creation\" data-toc-modified-id=\"Array-creation-3\"><span class=\"toc-item-num\">3&nbsp;&nbsp;</span>Array creation</a></span></li><li><span><a href=\"#Prime-Numbers\" data-toc-modified-id=\"Prime-Numbers-4\"><span class=\"toc-item-num\">4&nbsp;&nbsp;</span>Prime Numbers</a></span></li><li><span><a href=\"#Element-wise-Multiplication\" data-toc-modified-id=\"Element-wise-Multiplication-5\"><span class=\"toc-item-num\">5&nbsp;&nbsp;</span>Element-wise Multiplication</a></span></li><li><span><a href=\"#Replacement\" data-toc-modified-id=\"Replacement-6\"><span class=\"toc-item-num\">6&nbsp;&nbsp;</span>Replacement</a></span></li><li><span><a href=\"#Axis-Swap\" data-toc-modified-id=\"Axis-Swap-7\"><span class=\"toc-item-num\">7&nbsp;&nbsp;</span>Axis Swap</a></span></li><li><span><a href=\"#Transposing\" data-toc-modified-id=\"Transposing-8\"><span class=\"toc-item-num\">8&nbsp;&nbsp;</span>Transposing</a></span></li><li><span><a href=\"#Matrix-Multiplication\" data-toc-modified-id=\"Matrix-Multiplication-9\"><span class=\"toc-item-num\">9&nbsp;&nbsp;</span>Matrix Multiplication</a></span></li><li><span><a href=\"#Cartesian-Prodoct\" data-toc-modified-id=\"Cartesian-Prodoct-10\"><span class=\"toc-item-num\">10&nbsp;&nbsp;</span>Cartesian Prodoct</a></span></li><li><span><a href=\"#Sum-along-Axis\" data-toc-modified-id=\"Sum-along-Axis-11\"><span class=\"toc-item-num\">11&nbsp;&nbsp;</span>Sum along Axis</a></span></li><li><span><a href=\"#Determinant\" data-toc-modified-id=\"Determinant-12\"><span class=\"toc-item-num\">12&nbsp;&nbsp;</span>Determinant</a></span></li></ul></div>"
   ]
  },
  {
   "cell_type": "markdown",
   "metadata": {},
   "source": [
    "## Description\n",
    "Numpy is one of the most important Python libraries in data science. In this problem, we are going to get familiar with this library. \n",
    "\n",
    "**Note**: In the following cells, the input of each cell is the output of its previous cell. So, order of execution of the cells is important."
   ]
  },
  {
   "cell_type": "markdown",
   "metadata": {},
   "source": [
    "## Import \n",
    "Put all of your imports for this file in the below cell."
   ]
  },
  {
   "cell_type": "code",
   "execution_count": 2,
   "metadata": {},
   "outputs": [],
   "source": [
    "import numpy as np"
   ]
  },
  {
   "cell_type": "markdown",
   "metadata": {},
   "source": [
    "## Array creation\n",
    "Create the followings to numpy array:\n",
    "* A: a 3\\*3 array that filled with number 1 to 9 row wise. like this:\n",
    "$$\n",
    "A = \\left(\\begin{array}{cc} \n",
    "1 & 2 & 3\\\\\n",
    "4 & 5 & 6\\\\\n",
    "7 & 8 & 9\n",
    "\\end{array}\\right)\n",
    "$$ \n",
    "* B: a 3\\*3\\*5 that filled with the numbers start from 11 and have steps of 3 to the end. The array should be filled first along the first dimension then the second dimension and at last the third dimension. like this:\n",
    "$$\n",
    "B[:, :, 0] = \\left(\\begin{array}{cc} \n",
    "11 & 20 & 29\\\\\n",
    "14 & 23 & 32\\\\\n",
    "17 & 26 & 35\n",
    "\\end{array}\\right)\n",
    "$$ "
   ]
  },
  {
   "cell_type": "code",
   "execution_count": 3,
   "metadata": {},
   "outputs": [
    {
     "name": "stdout",
     "output_type": "stream",
     "text": [
      "A:\n",
      " [[1 2 3]\n",
      " [4 5 6]\n",
      " [7 8 9]]\n",
      "\n",
      "B[:,:,0]\n",
      " [[11 20 29]\n",
      " [14 23 32]\n",
      " [17 26 35]]\n"
     ]
    }
   ],
   "source": [
    "A = np.array([[1, 2, 3], [4, 5, 6], [7, 8, 9]])\n",
    "x = np.array(range(11, 146, 3))\n",
    "B = x.reshape(5, 3, 3)\n",
    "B = B.transpose(2, 1, 0)\n",
    "print('A:\\n', A)\n",
    "print('\\nB[:,:,0]\\n', B[:,:,0])\n",
    "#uncomment the following line to print all elements of B:\n",
    "# print('\\n', B)"
   ]
  },
  {
   "cell_type": "markdown",
   "metadata": {},
   "source": [
    "## Prime Numbers \n",
    "Replace the elements with prime values in the array A with 10."
   ]
  },
  {
   "cell_type": "code",
   "execution_count": 4,
   "metadata": {},
   "outputs": [
    {
     "name": "stdout",
     "output_type": "stream",
     "text": [
      "A:\n",
      " [[ 1 10 10]\n",
      " [ 4 10  6]\n",
      " [10  8  9]]\n"
     ]
    }
   ],
   "source": [
    "#defining a function that determines if its inpute is a prime number or not:\n",
    "def isprime(n):\n",
    "    if n < 2:\n",
    "        return False\n",
    "    elif n == 2:\n",
    "        return True\n",
    "    else:\n",
    "        for i in range(2, n):\n",
    "                if n % i == 0:\n",
    "                    return False\n",
    "        return True\n",
    "#vectorizing isprime:       \n",
    "v = np.vectorize(isprime)\n",
    "# applying v to A and replacing prime numbers with 10:\n",
    "A[v(A)] = 10\n",
    "print('A:\\n', A)"
   ]
  },
  {
   "cell_type": "markdown",
   "metadata": {},
   "source": [
    "## Element-wise Multiplication\n",
    "Calculate the element wise multiplication of arrays A and B and put the result in B. Then print the result."
   ]
  },
  {
   "cell_type": "code",
   "execution_count": 5,
   "metadata": {},
   "outputs": [
    {
     "name": "stdout",
     "output_type": "stream",
     "text": [
      "B[:,:,0]:\n",
      " [[ 11 200 290]\n",
      " [ 56 230 192]\n",
      " [170 208 315]] \n",
      "\n",
      "B[:,:,1]:\n",
      " [[ 38 470 560]\n",
      " [164 500 354]\n",
      " [440 424 558]] \n",
      "\n",
      "B[:,:,2]:\n",
      " [[ 65 740 830]\n",
      " [272 770 516]\n",
      " [710 640 801]] \n",
      "\n",
      "B[:,:,3]:\n",
      " [[  92 1010 1100]\n",
      " [ 380 1040  678]\n",
      " [ 980  856 1044]] \n",
      "\n",
      "B[:,:,4]:\n",
      " [[ 119 1280 1370]\n",
      " [ 488 1310  840]\n",
      " [1250 1072 1287]]\n"
     ]
    }
   ],
   "source": [
    "#With a for loop:\n",
    "'''\n",
    "result = np.zeros((3, 3, 5))\n",
    "for i in range(5):\n",
    "    B[:, :, i] = A * B[:, :, i]\n",
    "'''\n",
    "#Without a for loop:\n",
    "B = (B.transpose() * A.transpose()).transpose()\n",
    "\n",
    "print('B[:,:,0]:\\n',B[:,:,0],'\\n')\n",
    "print('B[:,:,1]:\\n',B[:,:,1],'\\n')\n",
    "print('B[:,:,2]:\\n',B[:,:,2],'\\n')\n",
    "print('B[:,:,3]:\\n',B[:,:,3],'\\n')\n",
    "print('B[:,:,4]:\\n',B[:,:,4])\n",
    "#uncomment the following line to print all elements of B:\n",
    "# print('\\n', B)"
   ]
  },
  {
   "cell_type": "markdown",
   "metadata": {},
   "source": [
    "## Replacement\n",
    "Replace the last slice of array B (B[:, :, 4]) with values of A. Then print the result."
   ]
  },
  {
   "cell_type": "code",
   "execution_count": 6,
   "metadata": {},
   "outputs": [
    {
     "name": "stdout",
     "output_type": "stream",
     "text": [
      "B[:,:,4]:\n",
      " [[ 1 10 10]\n",
      " [ 4 10  6]\n",
      " [10  8  9]]\n"
     ]
    }
   ],
   "source": [
    "B[:, :, 4] = A\n",
    "print('B[:,:,4]:\\n',B[:,:, 4])\n",
    "#uncomment the following line to print all elements of B:\n",
    "# print('\\n', B)"
   ]
  },
  {
   "cell_type": "markdown",
   "metadata": {},
   "source": [
    "## Axis Swap \n",
    "Swap the first(B[:, :, 0]) and last(B[:, :, 4]) slice of the array B **only with one line of code**. Then print the result."
   ]
  },
  {
   "cell_type": "code",
   "execution_count": 7,
   "metadata": {},
   "outputs": [
    {
     "name": "stdout",
     "output_type": "stream",
     "text": [
      "B[:, :, 0]:\n",
      " [[ 1 10 10]\n",
      " [ 4 10  6]\n",
      " [10  8  9]]\n",
      "\n",
      "B[:, :, 4]\n",
      " [[ 11 200 290]\n",
      " [ 56 230 192]\n",
      " [170 208 315]]\n"
     ]
    }
   ],
   "source": [
    "# notice: by numpy assigns matices by reference and we have to use copy() function to avoid it.\n",
    "B[:, :, 0], B[:, :, 4] = B[:, :, 4].copy(), B[:, :, 0].copy()\n",
    "\n",
    "print('B[:, :, 0]:\\n', B[:, :, 0])\n",
    "print('\\nB[:, :, 4]\\n', B[:, :, 4])\n",
    "#uncomment the following line to print all elements of B:\n",
    "# print('\\n', B)"
   ]
  },
  {
   "cell_type": "markdown",
   "metadata": {},
   "source": [
    "## Transposing \n",
    "Transpose the array B elements in each slice. Then print the result."
   ]
  },
  {
   "cell_type": "code",
   "execution_count": 8,
   "metadata": {},
   "outputs": [
    {
     "name": "stdout",
     "output_type": "stream",
     "text": [
      "B[:,:,0]:\n",
      " [[ 1  4 10]\n",
      " [10 10  8]\n",
      " [10  6  9]] \n",
      "\n",
      "B[:,:,1]:\n",
      " [[ 38 164 440]\n",
      " [470 500 424]\n",
      " [560 354 558]] \n",
      "\n",
      "B[:,:,2]:\n",
      " [[ 65 272 710]\n",
      " [740 770 640]\n",
      " [830 516 801]] \n",
      "\n",
      "B[:,:,3]:\n",
      " [[  92  380  980]\n",
      " [1010 1040  856]\n",
      " [1100  678 1044]] \n",
      "\n",
      "B[:,:,4]:\n",
      " [[ 11  56 170]\n",
      " [200 230 208]\n",
      " [290 192 315]]\n",
      "[[[   1   38   65   92   11]\n",
      "  [   4  164  272  380   56]\n",
      "  [  10  440  710  980  170]]\n",
      "\n",
      " [[  10  470  740 1010  200]\n",
      "  [  10  500  770 1040  230]\n",
      "  [   8  424  640  856  208]]\n",
      "\n",
      " [[  10  560  830 1100  290]\n",
      "  [   6  354  516  678  192]\n",
      "  [   9  558  801 1044  315]]]\n"
     ]
    }
   ],
   "source": [
    "B = B.transpose(1, 0, 2)\n",
    "\n",
    "print('B[:,:,0]:\\n',B[:,:,0],'\\n')\n",
    "print('B[:,:,1]:\\n',B[:,:,1],'\\n')\n",
    "print('B[:,:,2]:\\n',B[:,:,2],'\\n')\n",
    "print('B[:,:,3]:\\n',B[:,:,3],'\\n')\n",
    "print('B[:,:,4]:\\n',B[:,:,4])\n",
    "print(B)"
   ]
  },
  {
   "cell_type": "markdown",
   "metadata": {},
   "source": [
    "## Matrix Multiplication\n",
    "Calculate the matrix multiplication of all slices of the array B. \n",
    "(B[:, :, 0] \\* B[:, :, 1] \\* B[:, :, 2] \\* B[:, :, 3] \\* B[:, :, 4]). Then print the result.\n",
    "\n",
    "**Note**: the result should be a 3\\*3 array. "
   ]
  },
  {
   "cell_type": "code",
   "execution_count": 29,
   "metadata": {},
   "outputs": [
    {
     "name": "stdout",
     "output_type": "stream",
     "text": [
      "result:\n",
      " [[ 1209391816 -1143185392   350988760]\n",
      " [ 1470082208  -459189056   415182432]\n",
      " [  -38600768  1525962136   425960024]]\n"
     ]
    }
   ],
   "source": [
    "# result = np.matmul(B[:, :, 0], B[:, :, 1])\n",
    "# result = np.matmul(result, B[:, :, 2])\n",
    "# result = np.matmul(result, B[:, :, 3])\n",
    "# result = np.matmul(result, B[:, :, 4])\n",
    "result = B[:, :, 0] @ B[:, :, 1] @ B[:, :, 2] @ B[:, :, 3] @ B[:, :, 4]\n",
    "print('result:\\n', result)"
   ]
  },
  {
   "cell_type": "markdown",
   "metadata": {},
   "source": [
    "## Cartesian Prodoct\n",
    "Calculate the cartesian product of all columns of the array and put them in one slice. Then print the result.\n",
    "\n",
    "**Note**: the result should be a 3\\*3\\*3\\*3 array. "
   ]
  },
  {
   "cell_type": "code",
   "execution_count": 30,
   "metadata": {},
   "outputs": [
    {
     "name": "stdout",
     "output_type": "stream",
     "text": [
      "[[[[ 1209391816  1209391816  1209391816]\n",
      "   [ 1470082208  1470082208  1470082208]\n",
      "   [  -38600768   -38600768   -38600768]]\n",
      "\n",
      "  [[ 1209391816  1209391816  1209391816]\n",
      "   [ 1470082208  1470082208  1470082208]\n",
      "   [  -38600768   -38600768   -38600768]]\n",
      "\n",
      "  [[ 1209391816  1209391816  1209391816]\n",
      "   [ 1470082208  1470082208  1470082208]\n",
      "   [  -38600768   -38600768   -38600768]]]\n",
      "\n",
      "\n",
      " [[[-1143185392 -1143185392 -1143185392]\n",
      "   [-1143185392 -1143185392 -1143185392]\n",
      "   [-1143185392 -1143185392 -1143185392]]\n",
      "\n",
      "  [[ -459189056  -459189056  -459189056]\n",
      "   [ -459189056  -459189056  -459189056]\n",
      "   [ -459189056  -459189056  -459189056]]\n",
      "\n",
      "  [[ 1525962136  1525962136  1525962136]\n",
      "   [ 1525962136  1525962136  1525962136]\n",
      "   [ 1525962136  1525962136  1525962136]]]\n",
      "\n",
      "\n",
      " [[[  350988760   415182432   425960024]\n",
      "   [  350988760   415182432   425960024]\n",
      "   [  350988760   415182432   425960024]]\n",
      "\n",
      "  [[  350988760   415182432   425960024]\n",
      "   [  350988760   415182432   425960024]\n",
      "   [  350988760   415182432   425960024]]\n",
      "\n",
      "  [[  350988760   415182432   425960024]\n",
      "   [  350988760   415182432   425960024]\n",
      "   [  350988760   415182432   425960024]]]]\n"
     ]
    }
   ],
   "source": [
    "r = np.array(np.meshgrid(result[:, 0], result[:, 1], result[:, 2]))\n",
    "print(r)"
   ]
  },
  {
   "cell_type": "markdown",
   "metadata": {},
   "source": [
    "## Sum along Axis\n",
    "Calculate the sum of values of the array along its two last dimensions. Then print it. \n",
    "\n",
    "**Note**: the result is a 3\\*3 array. "
   ]
  },
  {
   "cell_type": "code",
   "execution_count": 31,
   "metadata": {},
   "outputs": [
    {
     "name": "stdout",
     "output_type": "stream",
     "text": [
      "[[ -667314824  -667314824  -667314824]\n",
      " [-1698733936   162265792   848757336]\n",
      " [ -718573648  -718573648  -718573648]]\n"
     ]
    }
   ],
   "source": [
    "m = np.sum(r, axis=(2,3))\n",
    "print(m)"
   ]
  },
  {
   "cell_type": "markdown",
   "metadata": {},
   "source": [
    "## Determinant\n",
    "Calculate the determinant of the array and print it."
   ]
  },
  {
   "cell_type": "code",
   "execution_count": 42,
   "metadata": {},
   "outputs": [
    {
     "name": "stdout",
     "output_type": "stream",
     "text": [
      "0.0\n"
     ]
    }
   ],
   "source": [
    "# Theoretically .transpose() doesn't do anything but if I don't use it the answer won't be correct!!!\n",
    "print(np.linalg.det(m.transpose()))"
   ]
  }
 ],
 "metadata": {
  "kernelspec": {
   "display_name": "Python 3",
   "language": "python",
   "name": "python3"
  },
  "language_info": {
   "codemirror_mode": {
    "name": "ipython",
    "version": 3
   },
   "file_extension": ".py",
   "mimetype": "text/x-python",
   "name": "python",
   "nbconvert_exporter": "python",
   "pygments_lexer": "ipython3",
   "version": "3.7.3"
  },
  "toc": {
   "base_numbering": 1,
   "nav_menu": {},
   "number_sections": true,
   "sideBar": true,
   "skip_h1_title": false,
   "title_cell": "Table of Contents",
   "title_sidebar": "Contents",
   "toc_cell": true,
   "toc_position": {},
   "toc_section_display": true,
   "toc_window_display": true
  }
 },
 "nbformat": 4,
 "nbformat_minor": 4
}
